{
 "cells": [
  {
   "cell_type": "markdown",
   "metadata": {},
   "source": [
    "# 数据预处理\n",
    "本章主要讨论收集到数据之后，如何进行数据的清洗和探索性分析。具体地，收集数据并存放在csv文件中，导入该csv文件后进行一定程度的数据清洗，并做可视化处理.\n",
    "\n",
    "参考：\n",
    "[1]https://www.bilibili.com/video/BV1Xh411p7M9/ 跟李沐学AI：2.1探索性数据分析"
   ]
  },
  {
   "cell_type": "code",
   "execution_count": 1,
   "metadata": {
    "scrolled": true
   },
   "outputs": [],
   "source": [
    "import numpy as np\n",
    "import pandas as pd\n",
    "# !pip install -i https://pypi.tuna.tsinghua.edu.cn/simple scipy==1.1.0\n",
    "import matplotlib.pyplot as plt\n",
    "from IPython import display\n",
    "#matplotlib_inline.backend_inline.set_matplotlib_formats('svg')\n",
    "#display.set_matplotlib_formats('svg')  老版本，IPython7.23后用以下\n",
    "display.display_svg()"
   ]
  },
  {
   "cell_type": "code",
   "execution_count": 2,
   "metadata": {},
   "outputs": [],
   "source": [
    "path = 'E:/jupyter notebook doc/data/d2l-house-price/train.csv'\n",
    "data = pd.read_csv(path)"
   ]
  },
  {
   "cell_type": "code",
   "execution_count": 3,
   "metadata": {},
   "outputs": [
    {
     "data": {
      "text/plain": [
       "(39407, 39)"
      ]
     },
     "execution_count": 3,
     "metadata": {},
     "output_type": "execute_result"
    }
   ],
   "source": [
    "data.shape"
   ]
  },
  {
   "cell_type": "code",
   "execution_count": 4,
   "metadata": {},
   "outputs": [
    {
     "data": {
      "text/html": [
       "<div>\n",
       "<style scoped>\n",
       "    .dataframe tbody tr th:only-of-type {\n",
       "        vertical-align: middle;\n",
       "    }\n",
       "\n",
       "    .dataframe tbody tr th {\n",
       "        vertical-align: top;\n",
       "    }\n",
       "\n",
       "    .dataframe thead th {\n",
       "        text-align: right;\n",
       "    }\n",
       "</style>\n",
       "<table border=\"1\" class=\"dataframe\">\n",
       "  <thead>\n",
       "    <tr style=\"text-align: right;\">\n",
       "      <th></th>\n",
       "      <th>Id</th>\n",
       "      <th>Address</th>\n",
       "      <th>Sold Price</th>\n",
       "      <th>Summary</th>\n",
       "      <th>Type</th>\n",
       "      <th>Year built</th>\n",
       "      <th>Heating</th>\n",
       "      <th>Cooling</th>\n",
       "      <th>Parking</th>\n",
       "      <th>Lot</th>\n",
       "      <th>...</th>\n",
       "      <th>Appliances included</th>\n",
       "      <th>Parking features</th>\n",
       "      <th>Construction materials</th>\n",
       "      <th>Roof</th>\n",
       "      <th>Tax assessed value</th>\n",
       "      <th>Annual tax amount</th>\n",
       "      <th>Laundry features</th>\n",
       "      <th>City</th>\n",
       "      <th>Zip</th>\n",
       "      <th>State</th>\n",
       "    </tr>\n",
       "  </thead>\n",
       "  <tbody>\n",
       "    <tr>\n",
       "      <th>0</th>\n",
       "      <td>19633278</td>\n",
       "      <td>2029 Kent Dr</td>\n",
       "      <td>3308000.0</td>\n",
       "      <td>Located in the desirable Highlands neighborhoo...</td>\n",
       "      <td>SingleFamily</td>\n",
       "      <td>1959.0</td>\n",
       "      <td>Forced air</td>\n",
       "      <td>Central</td>\n",
       "      <td>Garage, Garage - Attached, Covered</td>\n",
       "      <td>13068.0</td>\n",
       "      <td>...</td>\n",
       "      <td>Dishwasher, Garbage disposal</td>\n",
       "      <td>Garage, Garage - Attached, Covered</td>\n",
       "      <td>wood frame</td>\n",
       "      <td>Composition</td>\n",
       "      <td>3200000.0</td>\n",
       "      <td>38898.0</td>\n",
       "      <td>Inside</td>\n",
       "      <td>Los Altos</td>\n",
       "      <td>94024</td>\n",
       "      <td>CA</td>\n",
       "    </tr>\n",
       "  </tbody>\n",
       "</table>\n",
       "<p>1 rows × 39 columns</p>\n",
       "</div>"
      ],
      "text/plain": [
       "         Id       Address  Sold Price  \\\n",
       "0  19633278  2029 Kent Dr   3308000.0   \n",
       "\n",
       "                                             Summary          Type  \\\n",
       "0  Located in the desirable Highlands neighborhoo...  SingleFamily   \n",
       "\n",
       "   Year built     Heating  Cooling                             Parking  \\\n",
       "0      1959.0  Forced air  Central  Garage, Garage - Attached, Covered   \n",
       "\n",
       "       Lot  ...           Appliances included  \\\n",
       "0  13068.0  ...  Dishwasher, Garbage disposal   \n",
       "\n",
       "                     Parking features  Construction materials         Roof  \\\n",
       "0  Garage, Garage - Attached, Covered              wood frame  Composition   \n",
       "\n",
       "   Tax assessed value  Annual tax amount Laundry features       City    Zip  \\\n",
       "0           3200000.0            38898.0           Inside  Los Altos  94024   \n",
       "\n",
       "   State  \n",
       "0     CA  \n",
       "\n",
       "[1 rows x 39 columns]"
      ]
     },
     "execution_count": 4,
     "metadata": {},
     "output_type": "execute_result"
    }
   ],
   "source": [
    "data.head(1)"
   ]
  },
  {
   "cell_type": "markdown",
   "metadata": {
    "collapsed": true
   },
   "source": [
    "接下来，我们把缺失数据超过30%的列（即特征）抛弃，把剩余的留下。\n",
    "(如果一列里数据缺失超过30%，那我们就把这一特征丢掉，以此简化特征数量)"
   ]
  },
  {
   "cell_type": "code",
   "execution_count": 5,
   "metadata": {
    "scrolled": false
   },
   "outputs": [
    {
     "data": {
      "text/plain": [
       "Index(['Id', 'Address', 'Sold Price', 'Summary', 'Type', 'Year built',\n",
       "       'Heating', 'Parking', 'Bedrooms', 'Bathrooms',\n",
       "       'Total interior livable area', 'Total spaces', 'Garage spaces',\n",
       "       'Region', 'Elementary School', 'Elementary School Score',\n",
       "       'Elementary School Distance', 'Middle School', 'Middle School Score',\n",
       "       'Middle School Distance', 'High School', 'High School Score',\n",
       "       'High School Distance', 'Heating features', 'Parking features',\n",
       "       'Tax assessed value', 'Annual tax amount', 'City', 'Zip', 'State'],\n",
       "      dtype='object')"
      ]
     },
     "execution_count": 5,
     "metadata": {},
     "output_type": "execute_result"
    }
   ],
   "source": [
    "null_sum = data.isnull().sum()\n",
    "data.columns[null_sum < len(data) * 0.3] "
   ]
  },
  {
   "cell_type": "code",
   "execution_count": 6,
   "metadata": {
    "scrolled": true
   },
   "outputs": [],
   "source": [
    "# !pip install -i https://pypi.tuna.tsinghua.edu.cn/simple pandas==0.21\n",
    "data.drop(columns=data.columns[null_sum > len(data) * 0.3], inplace = True)"
   ]
  },
  {
   "cell_type": "code",
   "execution_count": 7,
   "metadata": {},
   "outputs": [
    {
     "data": {
      "text/plain": [
       "(39407, 30)"
      ]
     },
     "execution_count": 7,
     "metadata": {},
     "output_type": "execute_result"
    }
   ],
   "source": [
    "data.shape"
   ]
  },
  {
   "cell_type": "code",
   "execution_count": 8,
   "metadata": {},
   "outputs": [
    {
     "data": {
      "text/plain": [
       "Id                               int64\n",
       "Address                         object\n",
       "Sold Price                     float64\n",
       "Summary                         object\n",
       "Type                            object\n",
       "Year built                     float64\n",
       "Heating                         object\n",
       "Parking                         object\n",
       "Bedrooms                        object\n",
       "Bathrooms                      float64\n",
       "Total interior livable area    float64\n",
       "Total spaces                   float64\n",
       "Garage spaces                  float64\n",
       "Region                          object\n",
       "Elementary School               object\n",
       "Elementary School Score        float64\n",
       "Elementary School Distance     float64\n",
       "Middle School                   object\n",
       "Middle School Score            float64\n",
       "Middle School Distance         float64\n",
       "High School                     object\n",
       "High School Score              float64\n",
       "High School Distance           float64\n",
       "Heating features                object\n",
       "Parking features                object\n",
       "Tax assessed value             float64\n",
       "Annual tax amount              float64\n",
       "City                            object\n",
       "Zip                              int64\n",
       "State                           object\n",
       "dtype: object"
      ]
     },
     "execution_count": 8,
     "metadata": {},
     "output_type": "execute_result"
    }
   ],
   "source": [
    "data.dtypes"
   ]
  }
 ],
 "metadata": {
  "kernelspec": {
   "display_name": "Python 3 (ipykernel)",
   "language": "python",
   "name": "python3"
  },
  "language_info": {
   "codemirror_mode": {
    "name": "ipython",
    "version": 3
   },
   "file_extension": ".py",
   "mimetype": "text/x-python",
   "name": "python",
   "nbconvert_exporter": "python",
   "pygments_lexer": "ipython3",
   "version": "3.10.9"
  }
 },
 "nbformat": 4,
 "nbformat_minor": 2
}
