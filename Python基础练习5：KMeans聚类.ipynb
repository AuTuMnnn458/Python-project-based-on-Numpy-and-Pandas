{
 "cells": [
  {
   "cell_type": "markdown",
   "id": "ff859fd1",
   "metadata": {},
   "source": [
    "# KMeans聚类\n",
    "Kmeans需要提供参数为k(分为几类)和times(迭代多少次)。思路是：\n",
    "* 1.在数据集中选择k个点作为类中心，并命名为第i类，i=1,..,k\n",
    "* 2.计算其他样本离这k个点的距离，把离得最近的类中心的类作为自身的类\n",
    "* 3.k个类内做一个类中心的计算（几何中心），更新类中心 \n",
    "* 4.重复2，3，循环times次\n",
    "\n",
    "注意这是个无监督学习\n",
    "## 参考：\n",
    "* 视频 https://www.bilibili.com/video/BV1V7411P7wL"
   ]
  },
  {
   "cell_type": "markdown",
   "id": "c072d240",
   "metadata": {},
   "source": [
    "## 数据预处理"
   ]
  },
  {
   "cell_type": "code",
   "execution_count": 2,
   "id": "ec79ff86",
   "metadata": {},
   "outputs": [],
   "source": [
    "import numpy as np\n",
    "import pandas as pd "
   ]
  },
  {
   "cell_type": "code",
   "execution_count": 3,
   "id": "c5cbda0f",
   "metadata": {},
   "outputs": [
    {
     "data": {
      "text/html": [
       "<div>\n",
       "<style scoped>\n",
       "    .dataframe tbody tr th:only-of-type {\n",
       "        vertical-align: middle;\n",
       "    }\n",
       "\n",
       "    .dataframe tbody tr th {\n",
       "        vertical-align: top;\n",
       "    }\n",
       "\n",
       "    .dataframe thead th {\n",
       "        text-align: right;\n",
       "    }\n",
       "</style>\n",
       "<table border=\"1\" class=\"dataframe\">\n",
       "  <thead>\n",
       "    <tr style=\"text-align: right;\">\n",
       "      <th></th>\n",
       "      <th>customer</th>\n",
       "      <th>order</th>\n",
       "      <th>total_items</th>\n",
       "      <th>discount%</th>\n",
       "      <th>weekday</th>\n",
       "      <th>hour</th>\n",
       "      <th>Food%</th>\n",
       "      <th>Fresh%</th>\n",
       "      <th>Drinks%</th>\n",
       "      <th>Home%</th>\n",
       "      <th>Beauty%</th>\n",
       "      <th>Health%</th>\n",
       "      <th>Baby%</th>\n",
       "      <th>Pets%</th>\n",
       "    </tr>\n",
       "  </thead>\n",
       "  <tbody>\n",
       "    <tr>\n",
       "      <th>0</th>\n",
       "      <td>0</td>\n",
       "      <td>0</td>\n",
       "      <td>45</td>\n",
       "      <td>23.03</td>\n",
       "      <td>4</td>\n",
       "      <td>13</td>\n",
       "      <td>9.46</td>\n",
       "      <td>87.06</td>\n",
       "      <td>3.48</td>\n",
       "      <td>0.00</td>\n",
       "      <td>0.00</td>\n",
       "      <td>0.00</td>\n",
       "      <td>0.0</td>\n",
       "      <td>0.0</td>\n",
       "    </tr>\n",
       "    <tr>\n",
       "      <th>1</th>\n",
       "      <td>0</td>\n",
       "      <td>1</td>\n",
       "      <td>38</td>\n",
       "      <td>1.22</td>\n",
       "      <td>5</td>\n",
       "      <td>13</td>\n",
       "      <td>15.87</td>\n",
       "      <td>75.80</td>\n",
       "      <td>6.22</td>\n",
       "      <td>2.12</td>\n",
       "      <td>0.00</td>\n",
       "      <td>0.00</td>\n",
       "      <td>0.0</td>\n",
       "      <td>0.0</td>\n",
       "    </tr>\n",
       "    <tr>\n",
       "      <th>2</th>\n",
       "      <td>0</td>\n",
       "      <td>2</td>\n",
       "      <td>51</td>\n",
       "      <td>18.08</td>\n",
       "      <td>4</td>\n",
       "      <td>13</td>\n",
       "      <td>16.88</td>\n",
       "      <td>56.75</td>\n",
       "      <td>3.37</td>\n",
       "      <td>16.48</td>\n",
       "      <td>6.53</td>\n",
       "      <td>0.00</td>\n",
       "      <td>0.0</td>\n",
       "      <td>0.0</td>\n",
       "    </tr>\n",
       "    <tr>\n",
       "      <th>3</th>\n",
       "      <td>1</td>\n",
       "      <td>3</td>\n",
       "      <td>57</td>\n",
       "      <td>16.51</td>\n",
       "      <td>1</td>\n",
       "      <td>12</td>\n",
       "      <td>28.81</td>\n",
       "      <td>35.99</td>\n",
       "      <td>11.78</td>\n",
       "      <td>4.62</td>\n",
       "      <td>2.87</td>\n",
       "      <td>15.92</td>\n",
       "      <td>0.0</td>\n",
       "      <td>0.0</td>\n",
       "    </tr>\n",
       "    <tr>\n",
       "      <th>4</th>\n",
       "      <td>1</td>\n",
       "      <td>4</td>\n",
       "      <td>53</td>\n",
       "      <td>18.31</td>\n",
       "      <td>2</td>\n",
       "      <td>11</td>\n",
       "      <td>24.13</td>\n",
       "      <td>60.38</td>\n",
       "      <td>7.78</td>\n",
       "      <td>7.72</td>\n",
       "      <td>0.00</td>\n",
       "      <td>0.00</td>\n",
       "      <td>0.0</td>\n",
       "      <td>0.0</td>\n",
       "    </tr>\n",
       "  </tbody>\n",
       "</table>\n",
       "</div>"
      ],
      "text/plain": [
       "   customer  order  total_items  discount%  weekday  hour  Food%  Fresh%  \\\n",
       "0         0      0           45      23.03        4    13   9.46   87.06   \n",
       "1         0      1           38       1.22        5    13  15.87   75.80   \n",
       "2         0      2           51      18.08        4    13  16.88   56.75   \n",
       "3         1      3           57      16.51        1    12  28.81   35.99   \n",
       "4         1      4           53      18.31        2    11  24.13   60.38   \n",
       "\n",
       "   Drinks%  Home%  Beauty%  Health%  Baby%  Pets%  \n",
       "0     3.48   0.00     0.00     0.00    0.0    0.0  \n",
       "1     6.22   2.12     0.00     0.00    0.0    0.0  \n",
       "2     3.37  16.48     6.53     0.00    0.0    0.0  \n",
       "3    11.78   4.62     2.87    15.92    0.0    0.0  \n",
       "4     7.78   7.72     0.00     0.00    0.0    0.0  "
      ]
     },
     "execution_count": 3,
     "metadata": {},
     "output_type": "execute_result"
    }
   ],
   "source": [
    "data = pd.read_csv('\\data\\order.csv')\n",
    "data.head()"
   ]
  },
  {
   "cell_type": "code",
   "execution_count": 4,
   "id": "7cddf318",
   "metadata": {},
   "outputs": [],
   "source": [
    "t = data.iloc[: , -8:]"
   ]
  },
  {
   "cell_type": "markdown",
   "id": "a9571ea3",
   "metadata": {},
   "source": [
    "## KMeans聚类函数"
   ]
  },
  {
   "cell_type": "code",
   "execution_count": 5,
   "id": "32e20fff",
   "metadata": {},
   "outputs": [],
   "source": [
    "class KMeans:\n",
    "    \n",
    "    def __init__(self, k, times):\n",
    "        self.k = k\n",
    "        self.times = times\n",
    "        \n",
    "    def fit(self, X):\n",
    "        X = np.asarray(X)\n",
    "        np.random.seed(0)\n",
    "        self.cluster_centers = X[np.random.randint(0, len(X), self.k)] #初始时随机选择k个样本点作为类中心点\n",
    "        self.labels = np.zeros(len(X))\n",
    "        \n",
    "        for t in range(self.times):\n",
    "            for index, x in enumerate(X):\n",
    "                dis = np.sqrt(np.sum((x - self.cluster_centers) ** 2, axis=1))\n",
    "                #把距离最小的索引赋值给标签数组，索引的值就是当前点所属的类别\n",
    "                # dis.argmin()表示dis最小的那个self.cluster_centers的索引,第index个x就赋值给这个索引了\n",
    "                #有点像是给了类别，但是这是无监督学习并没有类别一说\n",
    "                self.labels[index] = dis.argmin() \n",
    "            for i in range(self.k):\n",
    "                self.cluster_centers[i] = np.mean(X[self.labels == i], axis = 0)\n",
    "    \n",
    "    \n",
    "    def predict(self, X):\n",
    "        X = np.asarray(X)\n",
    "        result = np.zeros(len(X))\n",
    "        for index, x in enumerate(X):\n",
    "            dis = np.sqrt(np.sum((x - self.cluster_centers)**2, axis =1))\n",
    "            result[index] = dis.argmin()\n",
    "        return result"
   ]
  },
  {
   "cell_type": "markdown",
   "id": "83287440",
   "metadata": {},
   "source": [
    "## 训练预测可视化"
   ]
  },
  {
   "cell_type": "code",
   "execution_count": 6,
   "id": "ad4c96fd",
   "metadata": {
    "scrolled": false
   },
   "outputs": [],
   "source": [
    "kmeans = KMeans(3, 50)\n",
    "kmeans.fit(t)"
   ]
  },
  {
   "cell_type": "code",
   "execution_count": 7,
   "id": "d6e1393a",
   "metadata": {},
   "outputs": [
    {
     "data": {
      "text/plain": [
       "array([[46.33977936,  8.93380516, 23.19047005, 13.11741633,  4.8107557 ,\n",
       "         1.17283735,  1.35704647,  0.95392773],\n",
       "       [19.5308009 , 50.42856608, 14.70652695,  7.89437019,  3.69829234,\n",
       "         0.91000428,  1.92515077,  0.82113238],\n",
       "       [ 7.93541008,  4.56182052, 30.65583437, 18.57726789,  8.61597195,\n",
       "         1.28482514, 26.81950293,  1.30158264]])"
      ]
     },
     "execution_count": 7,
     "metadata": {},
     "output_type": "execute_result"
    }
   ],
   "source": [
    "kmeans.cluster_centers"
   ]
  },
  {
   "cell_type": "code",
   "execution_count": 8,
   "id": "26190e3b",
   "metadata": {},
   "outputs": [
    {
     "data": {
      "text/html": [
       "<div>\n",
       "<style scoped>\n",
       "    .dataframe tbody tr th:only-of-type {\n",
       "        vertical-align: middle;\n",
       "    }\n",
       "\n",
       "    .dataframe tbody tr th {\n",
       "        vertical-align: top;\n",
       "    }\n",
       "\n",
       "    .dataframe thead th {\n",
       "        text-align: right;\n",
       "    }\n",
       "</style>\n",
       "<table border=\"1\" class=\"dataframe\">\n",
       "  <thead>\n",
       "    <tr style=\"text-align: right;\">\n",
       "      <th></th>\n",
       "      <th>Food%</th>\n",
       "      <th>Fresh%</th>\n",
       "      <th>Drinks%</th>\n",
       "      <th>Home%</th>\n",
       "      <th>Beauty%</th>\n",
       "      <th>Health%</th>\n",
       "      <th>Baby%</th>\n",
       "      <th>Pets%</th>\n",
       "    </tr>\n",
       "  </thead>\n",
       "  <tbody>\n",
       "    <tr>\n",
       "      <th>15</th>\n",
       "      <td>48.23</td>\n",
       "      <td>20.37</td>\n",
       "      <td>15.38</td>\n",
       "      <td>8.29</td>\n",
       "      <td>7.73</td>\n",
       "      <td>0.0</td>\n",
       "      <td>0.0</td>\n",
       "      <td>0.0</td>\n",
       "    </tr>\n",
       "    <tr>\n",
       "      <th>23</th>\n",
       "      <td>24.10</td>\n",
       "      <td>22.29</td>\n",
       "      <td>38.69</td>\n",
       "      <td>14.92</td>\n",
       "      <td>0.00</td>\n",
       "      <td>0.0</td>\n",
       "      <td>0.0</td>\n",
       "      <td>0.0</td>\n",
       "    </tr>\n",
       "    <tr>\n",
       "      <th>24</th>\n",
       "      <td>36.51</td>\n",
       "      <td>31.93</td>\n",
       "      <td>27.18</td>\n",
       "      <td>4.38</td>\n",
       "      <td>0.00</td>\n",
       "      <td>0.0</td>\n",
       "      <td>0.0</td>\n",
       "      <td>0.0</td>\n",
       "    </tr>\n",
       "    <tr>\n",
       "      <th>40</th>\n",
       "      <td>22.76</td>\n",
       "      <td>0.00</td>\n",
       "      <td>0.00</td>\n",
       "      <td>77.24</td>\n",
       "      <td>0.00</td>\n",
       "      <td>0.0</td>\n",
       "      <td>0.0</td>\n",
       "      <td>0.0</td>\n",
       "    </tr>\n",
       "    <tr>\n",
       "      <th>43</th>\n",
       "      <td>65.64</td>\n",
       "      <td>12.36</td>\n",
       "      <td>21.99</td>\n",
       "      <td>0.00</td>\n",
       "      <td>0.00</td>\n",
       "      <td>0.0</td>\n",
       "      <td>0.0</td>\n",
       "      <td>0.0</td>\n",
       "    </tr>\n",
       "  </tbody>\n",
       "</table>\n",
       "</div>"
      ],
      "text/plain": [
       "    Food%  Fresh%  Drinks%  Home%  Beauty%  Health%  Baby%  Pets%\n",
       "15  48.23   20.37    15.38   8.29     7.73      0.0    0.0    0.0\n",
       "23  24.10   22.29    38.69  14.92     0.00      0.0    0.0    0.0\n",
       "24  36.51   31.93    27.18   4.38     0.00      0.0    0.0    0.0\n",
       "40  22.76    0.00     0.00  77.24     0.00      0.0    0.0    0.0\n",
       "43  65.64   12.36    21.99   0.00     0.00      0.0    0.0    0.0"
      ]
     },
     "execution_count": 8,
     "metadata": {},
     "output_type": "execute_result"
    }
   ],
   "source": [
    "t[kmeans.labels == 0].head()"
   ]
  },
  {
   "cell_type": "code",
   "execution_count": 9,
   "id": "9d450a91",
   "metadata": {},
   "outputs": [
    {
     "data": {
      "text/plain": [
       "array([0., 2., 2.])"
      ]
     },
     "execution_count": 9,
     "metadata": {},
     "output_type": "execute_result"
    }
   ],
   "source": [
    "kmeans.predict([[30,30,40,0,0,0,0,0], [10,10,10,10,10,10,10,30], [5,10,15,20,20,30,0,0]])"
   ]
  },
  {
   "cell_type": "code",
   "execution_count": 10,
   "id": "ed85dfa2",
   "metadata": {},
   "outputs": [],
   "source": [
    "t2 = data.loc[:, 'Food%':'Fresh%']\n",
    "kmeans = KMeans(3,50)\n",
    "kmeans.fit(t2)"
   ]
  },
  {
   "cell_type": "code",
   "execution_count": 11,
   "id": "aa922389",
   "metadata": {},
   "outputs": [],
   "source": [
    "import matplotlib as mpl\n",
    "import matplotlib.pyplot as plt\n",
    "mpl.rcParams['font.family'] = 'SimHei'\n",
    "mpl.rcParams['axes.unicode_minus'] = False\n",
    "#%matplotlib inline\n",
    "#%config InlineBackend.figure_format = 'svg' \n",
    "#这次先不用这个了，点太多了，太清晰很卡"
   ]
  },
  {
   "cell_type": "code",
   "execution_count": 15,
   "id": "af5f9830",
   "metadata": {},
   "outputs": [
    {
     "data": {
      "image/png": "[encoded data removed]",
      "text/plain": [
       "<Figure size 800x500 with 1 Axes>"
      ]
     },
     "metadata": {},
     "output_type": "display_data"
    }
   ],
   "source": [
    "plt.figure(figsize = (8,5))\n",
    "plt.scatter(t2[kmeans.labels == 0].iloc[:,0], t2[kmeans.labels == 0].iloc[:,1], label = '类别1')\n",
    "plt.scatter(t2[kmeans.labels == 1].iloc[:,0], t2[kmeans.labels == 1].iloc[:,1], label = '类别2')\n",
    "plt.scatter(t2[kmeans.labels == 2].iloc[:,0], t2[kmeans.labels == 2].iloc[:,1], label = '类别3')\n",
    "plt.scatter(kmeans.cluster_centers[:,0], kmeans.cluster_centers[:,1], marker = \"+\", s=300)\n",
    "plt.title('食物和肉类购买的聚类分析')\n",
    "plt.xlabel('食物')\n",
    "plt.ylabel('肉类')\n",
    "plt.legend()\n",
    "plt.show()"
   ]
  },
  {
   "cell_type": "code",
   "execution_count": null,
   "id": "77244a86",
   "metadata": {},
   "outputs": [],
   "source": []
  }
 ],
 "metadata": {
  "kernelspec": {
   "display_name": "Python 3 (ipykernel)",
   "language": "python",
   "name": "python3"
  },
  "language_info": {
   "codemirror_mode": {
    "name": "ipython",
    "version": 3
   },
   "file_extension": ".py",
   "mimetype": "text/x-python",
   "name": "python",
   "nbconvert_exporter": "python",
   "pygments_lexer": "ipython3",
   "version": "3.10.9"
  },
  "nbTranslate": {
   "displayLangs": [
    "*"
   ],
   "hotkey": "alt-t",
   "langInMainMenu": true,
   "sourceLang": "en",
   "targetLang": "fr",
   "useGoogleTranslate": true
  }
 },
 "nbformat": 4,
 "nbformat_minor": 5
}
